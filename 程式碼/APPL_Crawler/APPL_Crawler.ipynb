{
 "cells": [
  {
   "cell_type": "code",
   "execution_count": 49,
   "metadata": {},
   "outputs": [],
   "source": [
    "import requests, pandas, re, os, json, datetime"
   ]
  },
  {
   "cell_type": "code",
   "execution_count": 52,
   "metadata": {},
   "outputs": [],
   "source": [
    "def os_path(list) : \n",
    "    os_path = os.path.dirname(os.path.dirname(os.getcwd()))\n",
    "    for i in list : \n",
    "        os_path = os.path.join(os_path, i)\n",
    "    return os_path"
   ]
  },
  {
   "cell_type": "code",
   "execution_count": 44,
   "metadata": {},
   "outputs": [],
   "source": [
    "# 向 Yahoo奇摩的 API 呼叫，近一個月內，每15分鐘，蘋果之股價。\n",
    "url = \"https://tw.stock.yahoo.com/_td-stock/api/resource/FinanceChartService.ApacLibraCharts;autoRefresh=1689179150082;period=1h;range=1mo;symbols=%5B%22AAPL%22%5D;type=null?bkt=&device=desktop&ecma=modern&feature=useNewQuoteTabColor%2CenableNewPk&intl=tw&lang=zh-Hant-TW&partner=none&prid=14ap6ehiatksl&region=TW&site=finance&tz=Asia%2FTaipei&ver=1.2.1928&returnMeta=true\"\n",
    "APPL_Stock_month_by_hour = requests.get(url)\n",
    "# print(APPL_Stock_month_by_hour)\n",
    "# 將 json 檔，轉換為 dict ，方便後續整理。\n",
    "APPL_dict = json.loads(s= APPL_Stock_month_by_hour.text)\n",
    "print(APPL_dict)\n",
    "\n",
    "# 將 APPL_dict 轉換成 DataFrame 的格式，最終輸出為 CSV，以利後續分析。\n",
    "df = pandas.DataFrame([])\n",
    "df[\"stock_price\"] = APPL_dict[\"data\"][0][\"chart\"][\"indicators\"][\"quote\"][0][\"close\"]\n",
    "df[\"timestamp\"] = APPL_dict[\"data\"][0][\"chart\"][\"timestamp\"]\n",
    "df[\"timestamp\"] = pandas.to_datetime(df[\"timestamp\"], unit='s')\n",
    "df.to_csv(os_path([\"database\", \"APPL_stock_2023.6.12_2023.7.13.csv\"]), index= False)"
   ]
  }
 ],
 "metadata": {
  "kernelspec": {
   "display_name": "Python 3",
   "language": "python",
   "name": "python3"
  },
  "language_info": {
   "codemirror_mode": {
    "name": "ipython",
    "version": 3
   },
   "file_extension": ".py",
   "mimetype": "text/x-python",
   "name": "python",
   "nbconvert_exporter": "python",
   "pygments_lexer": "ipython3",
   "version": "3.11.2"
  },
  "orig_nbformat": 4
 },
 "nbformat": 4,
 "nbformat_minor": 2
}
