{
 "cells": [
  {
   "cell_type": "markdown",
   "metadata": {},
   "source": [
    "# 尋找均線交易的最優組合。\n",
    "抓出使用均線的最佳買入點、最佳賣出點組合。\n",
    "此處，先固定買入點、賣出點的關係相同。讓運算時間降低。"
   ]
  },
  {
   "cell_type": "code",
   "execution_count": 2,
   "metadata": {},
   "outputs": [],
   "source": [
    "import pandas, os, re, numpy\n",
    "import talib\n",
    "\n",
    "# 路徑函數\n",
    "def os_path(list) : \n",
    "    os_path = os.path.dirname(os.path.dirname(os.getcwd()))\n",
    "    for i in list : \n",
    "        os_path = os.path.join(os_path, i)\n",
    "    return os_path\n",
    "\n",
    "# 回測函數一、買賣邏輯同。\n",
    "def return_test_logic_same(df, indicator_1, indicator_2) : # indicator_1、indicator_2，都是字串。\n",
    "    # 建立一個儲存買賣資訊的 list，內部每個元素都用 dict 儲存。格式 : {\"買入價格\" : buy_value ,\"賣出價格\" : sale_value}\n",
    "    Order_list = []\n",
    "    sale_index = -1\n",
    "    for index, column_data in df.iterrows() : # 鄵，少一個存放目前是否有買入資料的 list 幹妳量，難怪會有一這麼多交易次數。\n",
    "        if index > sale_index : \n",
    "            pass\n",
    "        else : \n",
    "            continue\n",
    "        \n",
    "        # 計算買入點、售出點。\n",
    "        try :  # 5_MA在前四個欄位，是遺漏值，此時無法比較大小，會報錯。 \n",
    "            if column_data[indicator_1] > column_data[indicator_2] : \n",
    "                buy_value = column_data[\"stock_price\"]\n",
    "            else : \n",
    "                continue\n",
    "            \n",
    "            # 再次遍歷整個 data，抓出賣出點。\n",
    "            for index_2, column_data_2 in df.iloc[index+1:, :].iterrows() :\n",
    "                if column_data_2[indicator_1] < column_data_2[indicator_2] : \n",
    "                    sale_value = column_data_2[\"stock_price\"]\n",
    "                    sale_index = index_2 # 避免重複交易，透過記住賣出點的 index，讓下一輪的買入點，必定要在這個賣出點後面。\n",
    "                    # 儲存買入、賣出資訊。\n",
    "                    Order_list.append({\"real_profitability\" : 100*(sale_value - buy_value)/buy_value - (0.1425*0.65 + 0.3)})\n",
    "                    break\n",
    "                else : \n",
    "                    continue\n",
    "\n",
    "        except : \n",
    "            pass\n",
    "\n",
    "    # 買賣資訊 dataframe化，用於後續串接。\n",
    "    df_Order =  pandas.DataFrame(Order_list)\n",
    "\n",
    "    # 扣除交易手續費，以 永豐金為例，0.1425%為交易手續費。交易稅，個股為 0.3%，當充為 0.15%。\n",
    "    # 創建真實獲利率函數。\n",
    "    result = {\"real_profitability\" : df_Order[\"real_profitability\"].sum(), \"order_sum\" : len(df_Order) , \"indicator_1\" : indicator_1, \"indicator_2\" : indicator_2}\n",
    "    return result\n",
    "\n",
    "# 此函數，在上一個函數的基礎上，將賣出點進行修正，根據當前股價是否低於長期指標，試圖修正短期指標不夠敏感的問替。\n",
    "def return_test_logic_different(df, indicator_1, indicator_2) : # indicator_1、indicator_2，都是字串。\n",
    "    # 建立一個儲存買賣資訊的 list，內部每個元素都用 dict 儲存。格式 : {\"買入價格\" : buy_value ,\"賣出價格\" : sale_value}\n",
    "    Order_list = []\n",
    "    sale_index = -1\n",
    "    for index, column_data in df.iterrows() : # 鄵，少一個存放目前是否有買入資料的 list 幹妳量，難怪會有一這麼多交易次數。\n",
    "        if index > sale_index : \n",
    "            pass\n",
    "        else : \n",
    "            continue\n",
    "        \n",
    "        # 計算買入點、售出點。\n",
    "        try :  # 5_MA在前四個欄位，是遺漏值，此時無法比較大小，會報錯。 \n",
    "            if column_data[indicator_1] > column_data[indicator_2] : \n",
    "                buy_value = column_data[\"stock_price\"]\n",
    "            else : \n",
    "                continue\n",
    "            \n",
    "            # 再次遍歷整個 data，抓出賣出點。\n",
    "            for index_2, column_data_2 in df.iloc[index+1 : , :].iterrows() :\n",
    "                if column_data_2[\"stock_price\"] < column_data_2[indicator_2] : \n",
    "                    sale_value = column_data_2[\"stock_price\"]\n",
    "                    # 儲存買入、賣出資訊。\n",
    "                    Order_list.append({\"real_profitability\" : 100*(sale_value - buy_value)/buy_value - (0.1425*0.65 + 0.3)})\n",
    "                    break\n",
    "                else : \n",
    "                    continue\n",
    "\n",
    "\n",
    "            # 再次遍歷整個 data，抓出短期指標低於長期指標的座標，讓下一個迴圈根據此座標\n",
    "            for index_3, column_data_3 in df.iloc[index+1 : , :].iterrows() :\n",
    "                if column_data_3[indicator_1] < column_data_3[indicator_2] : \n",
    "                    sale_index = index_3\n",
    "                    break\n",
    "                else : \n",
    "                    continue\n",
    "        except : \n",
    "            pass\n",
    "\n",
    "    # 買賣資訊 dataframe化，用於後續串接。\n",
    "    df_Order =  pandas.DataFrame(Order_list)\n",
    "\n",
    "    # 扣除交易手續費，以 永豐金為例，0.1425%為交易手續費。交易稅，個股為 0.3%，當充為 0.15%。\n",
    "    # 創建真實獲利率函數。\n",
    "    result = {\"real_profitability\" : df_Order[\"real_profitability\"].sum(), \"order_sum\" : len(df_Order) , \"indicator_1\" : indicator_1, \"indicator_2\" : indicator_2}\n",
    "    return result"
   ]
  },
  {
   "cell_type": "markdown",
   "metadata": {},
   "source": [
    "# 均線交易(買賣同)"
   ]
  },
  {
   "cell_type": "code",
   "execution_count": 25,
   "metadata": {},
   "outputs": [
    {
     "name": "stdout",
     "output_type": "stream",
     "text": [
      "執行時間：71.841973 秒\n"
     ]
    }
   ],
   "source": [
    "df = pandas.read_csv(os_path([\"database\", \"APPL_stock_2023.6.12_2023.7.13.csv\"]))\n",
    "result_list = []\n",
    "error_list = []\n",
    "\n",
    "# 引入 time 模組\n",
    "import time\n",
    "\n",
    "# 開始測量\n",
    "start = time.time()\n",
    "for i in range(2,21) : \n",
    "    for i2 in range(5, 61) : \n",
    "        if i > i2 : \n",
    "            continue\n",
    "        else : \n",
    "            pass\n",
    "        \n",
    "        df_MA = df[[\"stock_price\"]]\n",
    "        df_MA[f\"{i}\"] = talib.SMA(df_MA.stock_price, timeperiod= i)\n",
    "        df_MA[f\"{i2}\"] = talib.SMA(df_MA.stock_price, timeperiod= i2)\n",
    "        try : \n",
    "            result = return_test_logic_same(df_MA, f\"{i}\", f\"{i2}\")\n",
    "            result_list.append(result)\n",
    "        except : \n",
    "            error = {\"indicator_1\" : f\"{i}\", \"indicator_2\" : f\"{i2}\"}\n",
    "# 結束測量\n",
    "end = time.time()\n",
    "# 輸出結果\n",
    "print(\"執行時間：%f 秒\" % (end - start)) # 執行時間：87.132436 秒\n",
    "\n",
    "df_result = pandas.DataFrame(result_list)\n",
    "df_result.to_csv(os_path([\"output\", \"最佳均線獲利解_買賣同.csv\"]), index= False)\n",
    "\n"
   ]
  },
  {
   "cell_type": "code",
   "execution_count": 26,
   "metadata": {},
   "outputs": [],
   "source": [
    "# theard(多線呈)、核(身體)\n",
    "# Flask"
   ]
  },
  {
   "cell_type": "code",
   "execution_count": 27,
   "metadata": {},
   "outputs": [
    {
     "data": {
      "text/html": [
       "<div>\n",
       "<style scoped>\n",
       "    .dataframe tbody tr th:only-of-type {\n",
       "        vertical-align: middle;\n",
       "    }\n",
       "\n",
       "    .dataframe tbody tr th {\n",
       "        vertical-align: top;\n",
       "    }\n",
       "\n",
       "    .dataframe thead th {\n",
       "        text-align: right;\n",
       "    }\n",
       "</style>\n",
       "<table border=\"1\" class=\"dataframe\">\n",
       "  <thead>\n",
       "    <tr style=\"text-align: right;\">\n",
       "      <th></th>\n",
       "      <th>real_profitability</th>\n",
       "      <th>order_sum</th>\n",
       "      <th>indicator_1</th>\n",
       "      <th>indicator_2</th>\n",
       "    </tr>\n",
       "  </thead>\n",
       "  <tbody>\n",
       "    <tr>\n",
       "      <th>506</th>\n",
       "      <td>1.305529</td>\n",
       "      <td>1</td>\n",
       "      <td>20</td>\n",
       "      <td>34</td>\n",
       "    </tr>\n",
       "  </tbody>\n",
       "</table>\n",
       "</div>"
      ],
      "text/plain": [
       "     real_profitability  order_sum indicator_1 indicator_2\n",
       "506            1.305529          1          20          34"
      ]
     },
     "execution_count": 27,
     "metadata": {},
     "output_type": "execute_result"
    }
   ],
   "source": [
    "df_result[df_result[\"real_profitability\"] == df_result[\"real_profitability\"].max()]"
   ]
  },
  {
   "cell_type": "code",
   "execution_count": 28,
   "metadata": {},
   "outputs": [
    {
     "data": {
      "text/html": [
       "<div>\n",
       "<style scoped>\n",
       "    .dataframe tbody tr th:only-of-type {\n",
       "        vertical-align: middle;\n",
       "    }\n",
       "\n",
       "    .dataframe tbody tr th {\n",
       "        vertical-align: top;\n",
       "    }\n",
       "\n",
       "    .dataframe thead th {\n",
       "        text-align: right;\n",
       "    }\n",
       "</style>\n",
       "<table border=\"1\" class=\"dataframe\">\n",
       "  <thead>\n",
       "    <tr style=\"text-align: right;\">\n",
       "      <th></th>\n",
       "      <th>real_profitability</th>\n",
       "      <th>order_sum</th>\n",
       "      <th>indicator_1</th>\n",
       "      <th>indicator_2</th>\n",
       "    </tr>\n",
       "  </thead>\n",
       "  <tbody>\n",
       "    <tr>\n",
       "      <th>0</th>\n",
       "      <td>-4.859891</td>\n",
       "      <td>11</td>\n",
       "      <td>2</td>\n",
       "      <td>5</td>\n",
       "    </tr>\n",
       "  </tbody>\n",
       "</table>\n",
       "</div>"
      ],
      "text/plain": [
       "   real_profitability  order_sum indicator_1 indicator_2\n",
       "0           -4.859891         11           2           5"
      ]
     },
     "execution_count": 28,
     "metadata": {},
     "output_type": "execute_result"
    }
   ],
   "source": [
    "df_result[df_result[\"real_profitability\"] == df_result[\"real_profitability\"].min()]"
   ]
  },
  {
   "cell_type": "markdown",
   "metadata": {},
   "source": [
    "# 修正均線交易。\n",
    "此函數，在上一個函數的基礎上，將賣出點進行修正，根據當前股價是否低於長期指標，試圖修正短期指標不夠敏感的問替。"
   ]
  },
  {
   "cell_type": "code",
   "execution_count": 29,
   "metadata": {},
   "outputs": [
    {
     "name": "stdout",
     "output_type": "stream",
     "text": [
      "執行時間：118.746526 秒\n"
     ]
    }
   ],
   "source": [
    "df = pandas.read_csv(os_path([\"database\", \"APPL_stock_2023.6.12_2023.7.13.csv\"]))\n",
    "result_list = []\n",
    "error_list = []\n",
    "\n",
    "# 引入 time 模組\n",
    "import time\n",
    "\n",
    "# 開始測量\n",
    "start = time.time()\n",
    "for i in range(2,21) : \n",
    "    for i2 in range(5, 61) : \n",
    "        if i > i2 : \n",
    "            continue\n",
    "        else : \n",
    "            pass\n",
    "        \n",
    "        df_MA = df[[\"stock_price\"]]\n",
    "        df_MA[f\"{i}\"] = talib.SMA(df_MA.stock_price, timeperiod= i)\n",
    "        df_MA[f\"{i2}\"] = talib.SMA(df_MA.stock_price, timeperiod= i2)\n",
    "        try : \n",
    "            result = return_test_logic_different(df_MA, f\"{i}\", f\"{i2}\")\n",
    "            result_list.append(result)\n",
    "        except : \n",
    "            error = {\"indicator_1\" : f\"{i}\", \"indicator_2\" : f\"{i2}\"}\n",
    "\n",
    "# 結束測量\n",
    "end = time.time()\n",
    "# 輸出結果\n",
    "print(\"執行時間：%f 秒\" % (end - start)) # 執行時間：118.746526 秒\n",
    "\n",
    "df_result = pandas.DataFrame(result_list)\n",
    "df_result.to_csv(os_path([\"output\", \"最佳均線獲利解_均線修正.csv\"]), index= False)"
   ]
  },
  {
   "cell_type": "code",
   "execution_count": 30,
   "metadata": {},
   "outputs": [
    {
     "data": {
      "text/html": [
       "<div>\n",
       "<style scoped>\n",
       "    .dataframe tbody tr th:only-of-type {\n",
       "        vertical-align: middle;\n",
       "    }\n",
       "\n",
       "    .dataframe tbody tr th {\n",
       "        vertical-align: top;\n",
       "    }\n",
       "\n",
       "    .dataframe thead th {\n",
       "        text-align: right;\n",
       "    }\n",
       "</style>\n",
       "<table border=\"1\" class=\"dataframe\">\n",
       "  <thead>\n",
       "    <tr style=\"text-align: right;\">\n",
       "      <th></th>\n",
       "      <th>real_profitability</th>\n",
       "      <th>order_sum</th>\n",
       "      <th>indicator_1</th>\n",
       "      <th>indicator_2</th>\n",
       "    </tr>\n",
       "  </thead>\n",
       "  <tbody>\n",
       "    <tr>\n",
       "      <th>169</th>\n",
       "      <td>20.389032</td>\n",
       "      <td>31</td>\n",
       "      <td>5</td>\n",
       "      <td>10</td>\n",
       "    </tr>\n",
       "  </tbody>\n",
       "</table>\n",
       "</div>"
      ],
      "text/plain": [
       "     real_profitability  order_sum indicator_1 indicator_2\n",
       "169           20.389032         31           5          10"
      ]
     },
     "execution_count": 30,
     "metadata": {},
     "output_type": "execute_result"
    }
   ],
   "source": [
    "df_result[df_result[\"real_profitability\"] == df_result[\"real_profitability\"].max()]"
   ]
  },
  {
   "cell_type": "code",
   "execution_count": 31,
   "metadata": {},
   "outputs": [
    {
     "data": {
      "text/html": [
       "<div>\n",
       "<style scoped>\n",
       "    .dataframe tbody tr th:only-of-type {\n",
       "        vertical-align: middle;\n",
       "    }\n",
       "\n",
       "    .dataframe tbody tr th {\n",
       "        vertical-align: top;\n",
       "    }\n",
       "\n",
       "    .dataframe thead th {\n",
       "        text-align: right;\n",
       "    }\n",
       "</style>\n",
       "<table border=\"1\" class=\"dataframe\">\n",
       "  <thead>\n",
       "    <tr style=\"text-align: right;\">\n",
       "      <th></th>\n",
       "      <th>real_profitability</th>\n",
       "      <th>order_sum</th>\n",
       "      <th>indicator_1</th>\n",
       "      <th>indicator_2</th>\n",
       "    </tr>\n",
       "  </thead>\n",
       "  <tbody>\n",
       "    <tr>\n",
       "      <th>138</th>\n",
       "      <td>-20.536417</td>\n",
       "      <td>20</td>\n",
       "      <td>4</td>\n",
       "      <td>33</td>\n",
       "    </tr>\n",
       "    <tr>\n",
       "      <th>192</th>\n",
       "      <td>-20.536417</td>\n",
       "      <td>20</td>\n",
       "      <td>5</td>\n",
       "      <td>33</td>\n",
       "    </tr>\n",
       "  </tbody>\n",
       "</table>\n",
       "</div>"
      ],
      "text/plain": [
       "     real_profitability  order_sum indicator_1 indicator_2\n",
       "138          -20.536417         20           4          33\n",
       "192          -20.536417         20           5          33"
      ]
     },
     "execution_count": 31,
     "metadata": {},
     "output_type": "execute_result"
    }
   ],
   "source": [
    "df_result[df_result[\"real_profitability\"] == df_result[\"real_profitability\"].min()]"
   ]
  },
  {
   "cell_type": "code",
   "execution_count": 32,
   "metadata": {},
   "outputs": [
    {
     "data": {
      "text/plain": [
       "881"
      ]
     },
     "execution_count": 32,
     "metadata": {},
     "output_type": "execute_result"
    }
   ],
   "source": [
    "len(df_result[df_result[\"real_profitability\"] < 0])"
   ]
  },
  {
   "cell_type": "code",
   "execution_count": 33,
   "metadata": {},
   "outputs": [
    {
     "name": "stdout",
     "output_type": "stream",
     "text": [
      "<class 'pandas.core.frame.DataFrame'>\n",
      "RangeIndex: 909 entries, 0 to 908\n",
      "Data columns (total 4 columns):\n",
      " #   Column              Non-Null Count  Dtype  \n",
      "---  ------              --------------  -----  \n",
      " 0   real_profitability  909 non-null    float64\n",
      " 1   order_sum           909 non-null    int64  \n",
      " 2   indicator_1         909 non-null    object \n",
      " 3   indicator_2         909 non-null    object \n",
      "dtypes: float64(1), int64(1), object(2)\n",
      "memory usage: 28.5+ KB\n"
     ]
    }
   ],
   "source": [
    "df_result.info()"
   ]
  },
  {
   "cell_type": "markdown",
   "metadata": {},
   "source": [
    "# 目前預想的改進架構\n",
    "首先，既然目前技術上還沒辦法採用多線性編成去加速，巢狀迴圈。不然改變視角，\n",
    "\n",
    "我們在台股，971個上市證卷中，先選取能夠小額交易的證卷，將這些證卷根據不同技術指標的公定標準，去計算，找出最值得信賴的指標。\n",
    "\n",
    "接著，將其中獲利較佳的證卷，選出，假設其為，採用某技術指標，較有潛力的證卷，基於該證卷，對某技術指標做優化，找出最優解，依照此最優解進行投資。\n",
    "\n",
    "如 本次蘋果在 均線交易上，以 4_MA，對應 9_MA，有最優解。\n",
    "\n",
    "不過嘛，我們該知道的事，這種最優解，可能是來自於超大量交易而來的結果，你可能在這個月的期間，交易了10多次，搞的心情很糟。\n",
    "\n",
    "這在心理上的評估，也是必須去理解的。\n",
    "\n",
    "其次，可能每個月的最優解都不相同，此時這個月是 4、9 下個月變成，5、8，誰也說不準，\n",
    "\n",
    "這個時候也許應該要使用函數來 train 一波大的，預期最佳策略為何。\n",
    "\n",
    "函數目標 : \n",
    "根據未來可以使用的預期變數(月份、上個月的最優解)，得到該月應該採用的最優解組合，\n"
   ]
  },
  {
   "cell_type": "code",
   "execution_count": 4,
   "metadata": {},
   "outputs": [
    {
     "name": "stdout",
     "output_type": "stream",
     "text": [
      "-9.069512174080856\n",
      "-1.1297088319411372\n"
     ]
    }
   ],
   "source": [
    "import pandas, os, re, numpy\n",
    "import talib\n",
    "\n",
    "df_修正 = pandas.read_csv(os_path([\"output\", \"最佳均線獲利解_均線修正.csv\"]))\n",
    "df_買賣同 = pandas.read_csv(os_path([\"output\", \"最佳均線獲利解_買賣同.csv\"]))\n",
    "\n",
    "print(df_修正[\"real_profitability\"].mean())\n",
    "print(df_買賣同[\"real_profitability\"].mean())"
   ]
  },
  {
   "cell_type": "code",
   "execution_count": null,
   "metadata": {},
   "outputs": [],
   "source": []
  }
 ],
 "metadata": {
  "kernelspec": {
   "display_name": "Python 3",
   "language": "python",
   "name": "python3"
  },
  "language_info": {
   "codemirror_mode": {
    "name": "ipython",
    "version": 3
   },
   "file_extension": ".py",
   "mimetype": "text/x-python",
   "name": "python",
   "nbconvert_exporter": "python",
   "pygments_lexer": "ipython3",
   "version": "3.9.0"
  },
  "orig_nbformat": 4
 },
 "nbformat": 4,
 "nbformat_minor": 2
}
